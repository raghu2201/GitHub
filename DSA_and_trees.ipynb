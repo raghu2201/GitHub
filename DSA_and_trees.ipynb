{
 "cells": [
  {
   "cell_type": "markdown",
   "metadata": {
    "id": "FdiMqh-5dDkG"
   },
   "source": [
    "Mini-Project -1"
   ]
  },
  {
   "cell_type": "code",
   "execution_count": 4,
   "metadata": {
    "colab": {
     "base_uri": "https://localhost:8080/",
     "height": 218
    },
    "id": "5qQqa8S_dAWw",
    "outputId": "1e1a7195-53d9-43e2-9b5f-2aef4ecb476f"
   },
   "outputs": [
    {
     "ename": "TypeError",
     "evalue": "ignored",
     "output_type": "error",
     "traceback": [
      "\u001b[0;31m---------------------------------------------------------------------------\u001b[0m",
      "\u001b[0;31mTypeError\u001b[0m                                 Traceback (most recent call last)",
      "\u001b[0;32m<ipython-input-4-2682fdbc57ac>\u001b[0m in \u001b[0;36m<module>\u001b[0;34m()\u001b[0m\n\u001b[1;32m     66\u001b[0m \u001b[0;34m\u001b[0m\u001b[0m\n\u001b[1;32m     67\u001b[0m \u001b[0;32mif\u001b[0m \u001b[0m__name__\u001b[0m \u001b[0;34m==\u001b[0m \u001b[0;34m'__main__'\u001b[0m\u001b[0;34m:\u001b[0m\u001b[0;34m\u001b[0m\u001b[0;34m\u001b[0m\u001b[0m\n\u001b[0;32m---> 68\u001b[0;31m     \u001b[0mLinkedList\u001b[0m\u001b[0;34m.\u001b[0m\u001b[0minsert_values\u001b[0m\u001b[0;34m(\u001b[0m\u001b[0;34m[\u001b[0m\u001b[0;36m1\u001b[0m\u001b[0;34m,\u001b[0m\u001b[0;36m2\u001b[0m\u001b[0;34m,\u001b[0m\u001b[0;36m3\u001b[0m\u001b[0;34m,\u001b[0m\u001b[0;36m4\u001b[0m\u001b[0;34m]\u001b[0m\u001b[0;34m)\u001b[0m\u001b[0;34m\u001b[0m\u001b[0;34m\u001b[0m\u001b[0m\n\u001b[0m\u001b[1;32m     69\u001b[0m \u001b[0;34m\u001b[0m\u001b[0m\n",
      "\u001b[0;31mTypeError\u001b[0m: insert_values() missing 1 required positional argument: 'data_list'"
     ]
    }
   ],
   "source": [
    "class Node:\n",
    "    # Function to initialise the node object\n",
    "    def __init__(self, data):\n",
    "        self.data = data  # Assign data\n",
    "        self.next = None  # Initialize next as null\n",
    " \n",
    "# Linked List class contains a Node object\n",
    "class LinkedList:\n",
    "    # Function to initialize head\n",
    "    def __init__(self):\n",
    "        self.head = None\n",
    "    \n",
    "    def printList(self):\n",
    "        temp = self.head\n",
    "        while (temp):\n",
    "            print (temp.data)\n",
    "            temp = temp.next\n",
    "    \n",
    "    # Function to insert a new node at the beginning\n",
    "    def push(self, new_data):\n",
    " \n",
    "        # 1 & 2: Allocate the Node &\n",
    "        #        Put in the data\n",
    "        new_node = Node(new_data)\n",
    " \n",
    "        # 3. Make next of new Node as head\n",
    "        new_node.next = self.head\n",
    " \n",
    "        # 4. Move the head to point to new Node\n",
    "        self.head = new_node\n",
    "\n",
    "   # insert in End\n",
    "    def append(self, new_data):\n",
    " \n",
    "        # 1. Create a new node\n",
    "        # 2. Put in the data\n",
    "        # 3. Set next as None\n",
    "        new_node = Node(new_data)\n",
    " \n",
    "        # 4. If the Linked List is empty, then make the\n",
    "        #    new node as head\n",
    "        if self.head is None:\n",
    "            self.head = new_node\n",
    "            return\n",
    " \n",
    "        # 5. Else traverse till the last node\n",
    "        last = self.head\n",
    "        while (last.next):\n",
    "            last = last.next\n",
    " \n",
    "        # 6. Change the next of last node\n",
    "        last.next =  new_node\n",
    "\n",
    "    def insert_values(self, data_list):\n",
    "            self.head = None\n",
    "            for data in data_list:\n",
    "                self.append(data_list)\n",
    "\n",
    "    def get_length(self):\n",
    "            count = 0\n",
    "            itr = self.head\n",
    "            while itr:\n",
    "                count += 1\n",
    "                itr = itr.next\n",
    "            return count\n",
    "    \n",
    "if __name__ == '__main__':\n",
    "    LinkedList.insert_values([1,2,3,4])\n",
    "    "
   ]
  },
  {
   "cell_type": "code",
   "execution_count": 12,
   "metadata": {
    "colab": {
     "base_uri": "https://localhost:8080/"
    },
    "id": "ZQmBaz1tfwL6",
    "outputId": "ab1b8c06-c020-4deb-db77-9392d07433bc"
   },
   "outputs": [
    {
     "name": "stdout",
     "output_type": "stream",
     "text": [
      "1--->4--->3--->2--->-1--->\n"
     ]
    }
   ],
   "source": [
    "class Node:\n",
    "    def __init__(self, data = None, next = None):\n",
    "        self.data = data\n",
    "        self.next = next\n",
    "\n",
    "class LinkedList:\n",
    "    def __init__(self):\n",
    "        self.head = None\n",
    "\n",
    "    def insert_at_beginning(self, data):\n",
    "        node = Node(data, self.head)\n",
    "        self.head = node\n",
    "\n",
    "    def print(self):\n",
    "          if self.head is None:\n",
    "              print(\"Linked List is empty\")\n",
    "              return\n",
    "\n",
    "          itr = self.head\n",
    "          llstr = ''\n",
    "\n",
    "          while itr:\n",
    "              llstr += str(itr.data) + '--->'\n",
    "              itr = itr.next\n",
    "          \n",
    "          print(llstr)\n",
    "\n",
    "    def insert_at_end(self, data):\n",
    "        if self.head is None:\n",
    "            self.head = Node(data, None)\n",
    "            return\n",
    "\n",
    "        itr = self.head\n",
    "        while itr.next:\n",
    "            itr = itr.next\n",
    "\n",
    "        itr.next = Node(data, None)\n",
    "\n",
    "    def insert_values(self, data_list):\n",
    "        self.head = None\n",
    "        for data in data_list:\n",
    "          if (data == -1):\n",
    "            self.insert_at_end(data)\n",
    "          else:\n",
    "            self.insert_at_beginning(data)\n",
    "\n",
    "\n",
    "    def get_length(self):\n",
    "        count = 0\n",
    "        itr = self.head\n",
    "        while itr:\n",
    "            count += 1\n",
    "            itr = itr.next\n",
    "        return count\n",
    "\n",
    "if __name__ == '__main__':\n",
    "    ll = LinkedList()\n",
    "    ll.insert_values([2,3,-1,4,1])\n",
    "    ll.print()\n"
   ]
  },
  {
   "cell_type": "code",
   "execution_count": null,
   "metadata": {
    "colab": {
     "base_uri": "https://localhost:8080/"
    },
    "id": "DmBkcw4wP6mx",
    "outputId": "a82b0112-a8e2-4795-a3b6-bf2c2dc8e3f8"
   },
   "outputs": [
    {
     "name": "stdout",
     "output_type": "stream",
     "text": [
      "Building tree with these elements: [40, 20, 10, 50, 60, 30]\n",
      "In order traversal : [10, 20, 30, 40, 50, 60]\n",
      "Pre order traversal : [40, 10, 20, 30, 50, 60]\n",
      "Post order traversal : [10, 20, 30, 50, 60, 40]\n"
     ]
    }
   ],
   "source": [
    "class BinarySearchTreeNode:\n",
    "    def __init__(self, data):\n",
    "        self.data = data\n",
    "        self.left = None\n",
    "        self.right = None\n",
    "\n",
    "    def add_child(self, data):\n",
    "        if data == self.data:\n",
    "            return # node already exist\n",
    "\n",
    "        if data < self.data:\n",
    "            if self.left:\n",
    "                self.left.add_child(data)\n",
    "            else:\n",
    "                self.left = BinarySearchTreeNode(data)\n",
    "        else:\n",
    "            if self.right:\n",
    "                self.right.add_child(data)\n",
    "            else:\n",
    "                self.right = BinarySearchTreeNode(data)\n",
    "\n",
    "    def in_order_traversal(self):\n",
    "        elements = []\n",
    "        if self.left:\n",
    "            elements += self.left.in_order_traversal()\n",
    "\n",
    "        elements.append(self.data)\n",
    "\n",
    "        if self.right:\n",
    "            elements += self.right.in_order_traversal()\n",
    "\n",
    "        return elements\n",
    "\n",
    "    def pre_order_traversal(self):\n",
    "            elements = []\n",
    "            elements.append(self.data)\n",
    "\n",
    "            if self.left:\n",
    "                elements += self.left.in_order_traversal()\n",
    "\n",
    "            if self.right:\n",
    "                elements += self.right.in_order_traversal()\n",
    "\n",
    "            return elements\n",
    "\n",
    "    def post_order_traversal(self):\n",
    "            elements = []\n",
    "            if self.left:\n",
    "                elements += self.left.in_order_traversal()\n",
    "\n",
    "            if self.right:\n",
    "                elements += self.right.in_order_traversal()\n",
    "\n",
    "            elements.append(self.data)\n",
    "\n",
    "            return elements\n",
    "\n",
    "def build_tree(elements):\n",
    "    print(\"Building tree with these elements:\",elements)\n",
    "    root = BinarySearchTreeNode(elements[0])\n",
    "\n",
    "    for i in range(1,len(elements)):\n",
    "        root.add_child(elements[i])\n",
    "\n",
    "    return root\n",
    "\n",
    "if __name__ == '__main__':\n",
    "    numbers_tree = build_tree([40,20,10,50,60,30])\n",
    "    print(\"In order traversal :\",numbers_tree.in_order_traversal())\n",
    "    print(\"Pre order traversal :\",numbers_tree.pre_order_traversal())\n",
    "    print(\"Post order traversal :\",numbers_tree.post_order_traversal())   \n",
    "\n",
    "    #15,12,7,14,27,20,88,23\n",
    "    #40,20,10,50,60,30\n",
    "\n",
    "#          15\n",
    "#         /  \\\n",
    "#       12    27\n",
    "#      /  \\   / \\\n",
    "#     7   14 20  88\n",
    "#             \\\n",
    "#             23\n",
    "\n",
    "#         40\n",
    "#        /  \\\n",
    "#      20    50\n",
    "#      /    /  \\\n",
    "#     10   30   60\n"
   ]
  },
  {
   "cell_type": "code",
   "execution_count": null,
   "metadata": {
    "colab": {
     "base_uri": "https://localhost:8080/"
    },
    "id": "4NmgnTbiGXQF",
    "outputId": "a6b14995-ae0b-4419-9283-1389c172c6da"
   },
   "outputs": [
    {
     "name": "stdout",
     "output_type": "stream",
     "text": [
      "The first occurrence of element 6 is located at index 4\n"
     ]
    }
   ],
   "source": [
    "# Function to find the first occurrence of a given number\n",
    "# in a sorted list of integers\n",
    "def findFirstOccurrence(nums, target):\n",
    " \n",
    "    # search space is nums[left…right]\n",
    "    (left, right) = (0, len(nums) - 1)\n",
    " \n",
    "    # initialize the result by -1\n",
    "    result = -1\n",
    " \n",
    "    # loop till the search space is exhausted\n",
    "    while left <= right:\n",
    " \n",
    "        # find the mid-value in the search space and compares it with the target\n",
    "        mid = (left + right) // 2\n",
    " \n",
    "        # if the target is located, update the result and\n",
    "        # search towards the left (lower indices)\n",
    "        if target == nums[mid]:\n",
    "            result = mid\n",
    "            right = mid - 1\n",
    " \n",
    "        # if the target is less than the middle element, discard the right half\n",
    "        elif target < nums[mid]:\n",
    "            right = mid - 1\n",
    " \n",
    "        # if the target is more than the middle element, discard the left half\n",
    "        else:\n",
    "            left = mid + 1\n",
    " \n",
    "    # return the leftmost index, or -1 if the element is not found\n",
    "    return result\n",
    " \n",
    " \n",
    "if __name__ == '__main__':\n",
    " \n",
    "    nums = [2, 5, 5, 5, 6, 6, 8, 9, 9, 9]\n",
    "    target = 6\n",
    " \n",
    "    index = findFirstOccurrence(nums, target)\n",
    " \n",
    "    if index != -1:\n",
    "        print(f'The first occurrence of element {target} is located at index {index}')\n",
    "    else:\n",
    "        print('Element found not in the list')"
   ]
  },
  {
   "cell_type": "code",
   "execution_count": null,
   "metadata": {
    "colab": {
     "base_uri": "https://localhost:8080/"
    },
    "id": "FmIc2APhp0gt",
    "outputId": "fb567c6d-3fcd-4cbc-dfa9-157a03c6f31c"
   },
   "outputs": [
    {
     "data": {
      "text/plain": [
       "20"
      ]
     },
     "execution_count": 1,
     "metadata": {},
     "output_type": "execute_result"
    }
   ],
   "source": [
    "toys = {'Blocks': 30, 'Monopoly': 20}\n",
    "computers = {'iMac': 1000, 'Chromebook': 800, 'PC': 400}\n",
    "clothing = {'Jeans': 40, 'T-Shirt': 10}\n",
    "\n",
    "from collections import ChainMap\n",
    "inventory = ChainMap(toys, computers, clothing)\n",
    "inventory['Monopoly']"
   ]
  },
  {
   "cell_type": "code",
   "execution_count": null,
   "metadata": {
    "colab": {
     "base_uri": "https://localhost:8080/"
    },
    "id": "iiSiMWQpqNN9",
    "outputId": "110d9760-56dc-40f0-fc58-e66aa5613c01"
   },
   "outputs": [
    {
     "data": {
      "text/plain": [
       "ChainMap({'Monopoly': 20, 'Nintendo': 200}, {'iMac': 1000, 'Chromebook': 800, 'PC': 400}, {'Jeans': 40, 'T-Shirt': 10})"
      ]
     },
     "execution_count": 4,
     "metadata": {},
     "output_type": "execute_result"
    }
   ],
   "source": [
    "inventory.get('Mario Bros.')\n",
    "\n",
    "\n",
    "\n",
    "toys['Nintendo'] = 200\n",
    "inventory['Nintendo']\n",
    "\n",
    "str(inventory)\n",
    "ChainMap({'Monopoly': 20, 'Nintendo': 200}, {'iMac': 1000, 'Chromebook': 800, 'PC': 400}, {'Jeans': 40, 'T-Shirt': 10})"
   ]
  },
  {
   "cell_type": "code",
   "execution_count": null,
   "metadata": {
    "id": "l07Te_1mbjYz"
   },
   "outputs": [],
   "source": []
  }
 ],
 "metadata": {
  "colab": {
   "name": "DSA and trees",
   "provenance": []
  },
  "kernelspec": {
   "display_name": "Python 3 (ipykernel)",
   "language": "python",
   "name": "python3"
  },
  "language_info": {
   "codemirror_mode": {
    "name": "ipython",
    "version": 3
   },
   "file_extension": ".py",
   "mimetype": "text/x-python",
   "name": "python",
   "nbconvert_exporter": "python",
   "pygments_lexer": "ipython3",
   "version": "3.9.12"
  }
 },
 "nbformat": 4,
 "nbformat_minor": 1
}
